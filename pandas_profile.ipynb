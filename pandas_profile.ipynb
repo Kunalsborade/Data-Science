{
 "cells": [
  {
   "cell_type": "code",
   "execution_count": 1,
   "metadata": {
    "collapsed": true
   },
   "outputs": [
    {
     "name": "stdout",
     "output_type": "stream",
     "text": [
      "Collecting pandas-profiling\r\n",
      "  Downloading pandas_profiling-3.4.0-py2.py3-none-any.whl (315 kB)\r\n",
      "\u001B[2K     \u001B[90m━━━━━━━━━━━━━━━━━━━━━━━━━━━━━━━━━━━━━━━\u001B[0m \u001B[32m315.3/315.3 kB\u001B[0m \u001B[31m1.3 MB/s\u001B[0m eta \u001B[36m0:00:00\u001B[0ma \u001B[36m0:00:01\u001B[0m\r\n",
      "\u001B[?25hRequirement already satisfied: matplotlib<3.6,>=3.2 in /Users/kunalborade/opt/anaconda3/lib/python3.9/site-packages (from pandas-profiling) (3.5.3)\r\n",
      "Requirement already satisfied: requests<2.29,>=2.24.0 in /Users/kunalborade/opt/anaconda3/lib/python3.9/site-packages (from pandas-profiling) (2.28.1)\r\n",
      "Collecting statsmodels<0.14,>=0.13.2\r\n",
      "  Downloading statsmodels-0.13.2-cp39-cp39-macosx_10_9_x86_64.whl (9.6 MB)\r\n",
      "\u001B[2K     \u001B[90m━━━━━━━━━━━━━━━━━━━━━━━━━━━━━━━━━━━━━━━━\u001B[0m \u001B[32m9.6/9.6 MB\u001B[0m \u001B[31m2.2 MB/s\u001B[0m eta \u001B[36m0:00:00\u001B[0m00:01\u001B[0m00:01\u001B[0m\r\n",
      "\u001B[?25hCollecting missingno<0.6,>=0.4.2\r\n",
      "  Downloading missingno-0.5.1-py3-none-any.whl (8.7 kB)\r\n",
      "Collecting phik<0.13,>=0.11.1\r\n",
      "  Downloading phik-0.12.2-cp39-cp39-macosx_10_13_x86_64.whl (694 kB)\r\n",
      "\u001B[2K     \u001B[90m━━━━━━━━━━━━━━━━━━━━━━━━━━━━━━━━━━━━━━━\u001B[0m \u001B[32m694.7/694.7 kB\u001B[0m \u001B[31m2.8 MB/s\u001B[0m eta \u001B[36m0:00:00\u001B[0m00:01\u001B[0m00:01\u001B[0m\r\n",
      "\u001B[?25hRequirement already satisfied: tqdm<4.65,>=4.48.2 in /Users/kunalborade/opt/anaconda3/lib/python3.9/site-packages (from pandas-profiling) (4.64.1)\r\n",
      "Requirement already satisfied: numpy<1.24,>=1.16.0 in /Users/kunalborade/opt/anaconda3/lib/python3.9/site-packages (from pandas-profiling) (1.23.2)\r\n",
      "Collecting visions[type_image_path]==0.7.5\r\n",
      "  Downloading visions-0.7.5-py3-none-any.whl (102 kB)\r\n",
      "\u001B[2K     \u001B[90m━━━━━━━━━━━━━━━━━━━━━━━━━━━━━━━━━━━━━━━\u001B[0m \u001B[32m102.7/102.7 kB\u001B[0m \u001B[31m1.3 MB/s\u001B[0m eta \u001B[36m0:00:00\u001B[0ma \u001B[36m0:00:01\u001B[0m\r\n",
      "\u001B[?25hCollecting multimethod<1.10,>=1.4\r\n",
      "  Downloading multimethod-1.9-py3-none-any.whl (10 kB)\r\n",
      "Requirement already satisfied: pandas!=1.4.0,<1.6,>1.1 in /Users/kunalborade/opt/anaconda3/lib/python3.9/site-packages (from pandas-profiling) (1.4.3)\r\n",
      "Collecting htmlmin==0.1.12\r\n",
      "  Downloading htmlmin-0.1.12.tar.gz (19 kB)\r\n",
      "  Preparing metadata (setup.py) ... \u001B[?25ldone\r\n",
      "\u001B[?25hRequirement already satisfied: scipy<1.10,>=1.4.1 in /Users/kunalborade/opt/anaconda3/lib/python3.9/site-packages (from pandas-profiling) (1.9.0)\r\n",
      "Collecting pydantic<1.11,>=1.8.1\r\n",
      "  Downloading pydantic-1.10.2-cp39-cp39-macosx_10_9_x86_64.whl (3.2 MB)\r\n",
      "\u001B[2K     \u001B[90m━━━━━━━━━━━━━━━━━━━━━━━━━━━━━━━━━━━━━━━━\u001B[0m \u001B[32m3.2/3.2 MB\u001B[0m \u001B[31m5.4 MB/s\u001B[0m eta \u001B[36m0:00:00\u001B[0m00:01\u001B[0m00:01\u001B[0m\r\n",
      "\u001B[?25hRequirement already satisfied: jinja2<3.2,>=2.11.1 in /Users/kunalborade/opt/anaconda3/lib/python3.9/site-packages (from pandas-profiling) (2.11.3)\r\n",
      "Requirement already satisfied: PyYAML<6.1,>=5.0.0 in /Users/kunalborade/opt/anaconda3/lib/python3.9/site-packages (from pandas-profiling) (6.0)\r\n",
      "Requirement already satisfied: seaborn<0.13,>=0.10.1 in /Users/kunalborade/opt/anaconda3/lib/python3.9/site-packages (from pandas-profiling) (0.12.0)\r\n",
      "Requirement already satisfied: attrs>=19.3.0 in /Users/kunalborade/opt/anaconda3/lib/python3.9/site-packages (from visions[type_image_path]==0.7.5->pandas-profiling) (21.4.0)\r\n",
      "Collecting networkx>=2.4\r\n",
      "  Downloading networkx-2.8.7-py3-none-any.whl (2.0 MB)\r\n",
      "\u001B[2K     \u001B[90m━━━━━━━━━━━━━━━━━━━━━━━━━━━━━━━━━━━━━━━━\u001B[0m \u001B[32m2.0/2.0 MB\u001B[0m \u001B[31m5.5 MB/s\u001B[0m eta \u001B[36m0:00:00\u001B[0ma \u001B[36m0:00:01\u001B[0m\r\n",
      "\u001B[?25hCollecting tangled-up-in-unicode>=0.0.4\r\n",
      "  Downloading tangled_up_in_unicode-0.2.0-py3-none-any.whl (4.7 MB)\r\n",
      "\u001B[2K     \u001B[90m━━━━━━━━━━━━━━━━━━━━━━━━━━━━━━━━━━━━━━━━\u001B[0m \u001B[32m4.7/4.7 MB\u001B[0m \u001B[31m5.3 MB/s\u001B[0m eta \u001B[36m0:00:00\u001B[0m00:01\u001B[0m00:01\u001B[0m\r\n",
      "\u001B[?25hCollecting imagehash\r\n",
      "  Downloading ImageHash-4.3.1-py2.py3-none-any.whl (296 kB)\r\n",
      "\u001B[2K     \u001B[90m━━━━━━━━━━━━━━━━━━━━━━━━━━━━━━━━━━━━━━━\u001B[0m \u001B[32m296.5/296.5 kB\u001B[0m \u001B[31m3.8 MB/s\u001B[0m eta \u001B[36m0:00:00\u001B[0ma \u001B[36m0:00:01\u001B[0m\r\n",
      "\u001B[?25hRequirement already satisfied: Pillow in /Users/kunalborade/opt/anaconda3/lib/python3.9/site-packages (from visions[type_image_path]==0.7.5->pandas-profiling) (9.2.0)\r\n",
      "Requirement already satisfied: MarkupSafe>=0.23 in /Users/kunalborade/opt/anaconda3/lib/python3.9/site-packages (from jinja2<3.2,>=2.11.1->pandas-profiling) (2.0.1)\r\n",
      "Requirement already satisfied: kiwisolver>=1.0.1 in /Users/kunalborade/opt/anaconda3/lib/python3.9/site-packages (from matplotlib<3.6,>=3.2->pandas-profiling) (1.4.4)\r\n",
      "Requirement already satisfied: python-dateutil>=2.7 in /Users/kunalborade/opt/anaconda3/lib/python3.9/site-packages (from matplotlib<3.6,>=3.2->pandas-profiling) (2.8.2)\r\n",
      "Requirement already satisfied: fonttools>=4.22.0 in /Users/kunalborade/opt/anaconda3/lib/python3.9/site-packages (from matplotlib<3.6,>=3.2->pandas-profiling) (4.36.0)\r\n",
      "Requirement already satisfied: packaging>=20.0 in /Users/kunalborade/opt/anaconda3/lib/python3.9/site-packages (from matplotlib<3.6,>=3.2->pandas-profiling) (21.3)\r\n",
      "Requirement already satisfied: cycler>=0.10 in /Users/kunalborade/opt/anaconda3/lib/python3.9/site-packages (from matplotlib<3.6,>=3.2->pandas-profiling) (0.11.0)\r\n",
      "Requirement already satisfied: pyparsing>=2.2.1 in /Users/kunalborade/opt/anaconda3/lib/python3.9/site-packages (from matplotlib<3.6,>=3.2->pandas-profiling) (3.0.9)\r\n",
      "Requirement already satisfied: pytz>=2020.1 in /Users/kunalborade/opt/anaconda3/lib/python3.9/site-packages (from pandas!=1.4.0,<1.6,>1.1->pandas-profiling) (2022.1)\r\n",
      "Collecting joblib>=0.14.1\r\n",
      "  Downloading joblib-1.2.0-py3-none-any.whl (297 kB)\r\n",
      "\u001B[2K     \u001B[90m━━━━━━━━━━━━━━━━━━━━━━━━━━━━━━━━━━━━━━━\u001B[0m \u001B[32m298.0/298.0 kB\u001B[0m \u001B[31m4.9 MB/s\u001B[0m eta \u001B[36m0:00:00\u001B[0ma \u001B[36m0:00:01\u001B[0m\r\n",
      "\u001B[?25hRequirement already satisfied: typing-extensions>=4.1.0 in /Users/kunalborade/opt/anaconda3/lib/python3.9/site-packages (from pydantic<1.11,>=1.8.1->pandas-profiling) (4.3.0)\r\n",
      "Requirement already satisfied: idna<4,>=2.5 in /Users/kunalborade/opt/anaconda3/lib/python3.9/site-packages (from requests<2.29,>=2.24.0->pandas-profiling) (3.3)\r\n",
      "Requirement already satisfied: charset-normalizer<3,>=2 in /Users/kunalborade/opt/anaconda3/lib/python3.9/site-packages (from requests<2.29,>=2.24.0->pandas-profiling) (2.0.4)\r\n",
      "Requirement already satisfied: certifi>=2017.4.17 in /Users/kunalborade/opt/anaconda3/lib/python3.9/site-packages (from requests<2.29,>=2.24.0->pandas-profiling) (2022.9.24)\r\n",
      "Requirement already satisfied: urllib3<1.27,>=1.21.1 in /Users/kunalborade/opt/anaconda3/lib/python3.9/site-packages (from requests<2.29,>=2.24.0->pandas-profiling) (1.26.11)\r\n",
      "Collecting patsy>=0.5.2\r\n",
      "  Downloading patsy-0.5.3-py2.py3-none-any.whl (233 kB)\r\n",
      "\u001B[2K     \u001B[90m━━━━━━━━━━━━━━━━━━━━━━━━━━━━━━━━━━━━━━━\u001B[0m \u001B[32m233.8/233.8 kB\u001B[0m \u001B[31m3.8 MB/s\u001B[0m eta \u001B[36m0:00:00\u001B[0ma \u001B[36m0:00:01\u001B[0m\r\n",
      "\u001B[?25hRequirement already satisfied: six in /Users/kunalborade/opt/anaconda3/lib/python3.9/site-packages (from patsy>=0.5.2->statsmodels<0.14,>=0.13.2->pandas-profiling) (1.16.0)\r\n",
      "Collecting PyWavelets\r\n",
      "  Downloading PyWavelets-1.4.1-cp39-cp39-macosx_10_13_x86_64.whl (4.4 MB)\r\n",
      "\u001B[2K     \u001B[90m━━━━━━━━━━━━━━━━━━━━━━━━━━━━━━━━━━━━━━━━\u001B[0m \u001B[32m4.4/4.4 MB\u001B[0m \u001B[31m4.0 MB/s\u001B[0m eta \u001B[36m0:00:00\u001B[0m00:01\u001B[0m00:01\u001B[0m\r\n",
      "\u001B[?25hBuilding wheels for collected packages: htmlmin\r\n",
      "  Building wheel for htmlmin (setup.py) ... \u001B[?25ldone\r\n",
      "\u001B[?25h  Created wheel for htmlmin: filename=htmlmin-0.1.12-py3-none-any.whl size=27082 sha256=f3625749472147aadb78a9619afab2808a33b4462bfce08966c86325502a9cfe\r\n",
      "  Stored in directory: /Users/kunalborade/Library/Caches/pip/wheels/1d/05/04/c6d7d3b66539d9e659ac6dfe81e2d0fd4c1a8316cc5a403300\r\n",
      "Successfully built htmlmin\r\n",
      "Installing collected packages: htmlmin, tangled-up-in-unicode, PyWavelets, pydantic, patsy, networkx, multimethod, joblib, imagehash, visions, statsmodels, phik, missingno, pandas-profiling\r\n",
      "Successfully installed PyWavelets-1.4.1 htmlmin-0.1.12 imagehash-4.3.1 joblib-1.2.0 missingno-0.5.1 multimethod-1.9 networkx-2.8.7 pandas-profiling-3.4.0 patsy-0.5.3 phik-0.12.2 pydantic-1.10.2 statsmodels-0.13.2 tangled-up-in-unicode-0.2.0 visions-0.7.5\r\n"
     ]
    }
   ],
   "source": [
    "!pip install pandas-profiling"
   ]
  },
  {
   "cell_type": "code",
   "execution_count": 3,
   "outputs": [
    {
     "data": {
      "text/plain": "   PassengerId  Survived  Pclass  \\\n0            1         0       3   \n1            2         1       1   \n2            3         1       3   \n3            4         1       1   \n4            5         0       3   \n\n                                                Name     Sex   Age  SibSp  \\\n0                            Braund, Mr. Owen Harris    male  22.0      1   \n1  Cumings, Mrs. John Bradley (Florence Briggs Th...  female  38.0      1   \n2                             Heikkinen, Miss. Laina  female  26.0      0   \n3       Futrelle, Mrs. Jacques Heath (Lily May Peel)  female  35.0      1   \n4                           Allen, Mr. William Henry    male  35.0      0   \n\n   Parch            Ticket     Fare Cabin Embarked  \n0      0         A/5 21171   7.2500   NaN        S  \n1      0          PC 17599  71.2833   C85        C  \n2      0  STON/O2. 3101282   7.9250   NaN        S  \n3      0            113803  53.1000  C123        S  \n4      0            373450   8.0500   NaN        S  ",
      "text/html": "<div>\n<style scoped>\n    .dataframe tbody tr th:only-of-type {\n        vertical-align: middle;\n    }\n\n    .dataframe tbody tr th {\n        vertical-align: top;\n    }\n\n    .dataframe thead th {\n        text-align: right;\n    }\n</style>\n<table border=\"1\" class=\"dataframe\">\n  <thead>\n    <tr style=\"text-align: right;\">\n      <th></th>\n      <th>PassengerId</th>\n      <th>Survived</th>\n      <th>Pclass</th>\n      <th>Name</th>\n      <th>Sex</th>\n      <th>Age</th>\n      <th>SibSp</th>\n      <th>Parch</th>\n      <th>Ticket</th>\n      <th>Fare</th>\n      <th>Cabin</th>\n      <th>Embarked</th>\n    </tr>\n  </thead>\n  <tbody>\n    <tr>\n      <th>0</th>\n      <td>1</td>\n      <td>0</td>\n      <td>3</td>\n      <td>Braund, Mr. Owen Harris</td>\n      <td>male</td>\n      <td>22.0</td>\n      <td>1</td>\n      <td>0</td>\n      <td>A/5 21171</td>\n      <td>7.2500</td>\n      <td>NaN</td>\n      <td>S</td>\n    </tr>\n    <tr>\n      <th>1</th>\n      <td>2</td>\n      <td>1</td>\n      <td>1</td>\n      <td>Cumings, Mrs. John Bradley (Florence Briggs Th...</td>\n      <td>female</td>\n      <td>38.0</td>\n      <td>1</td>\n      <td>0</td>\n      <td>PC 17599</td>\n      <td>71.2833</td>\n      <td>C85</td>\n      <td>C</td>\n    </tr>\n    <tr>\n      <th>2</th>\n      <td>3</td>\n      <td>1</td>\n      <td>3</td>\n      <td>Heikkinen, Miss. Laina</td>\n      <td>female</td>\n      <td>26.0</td>\n      <td>0</td>\n      <td>0</td>\n      <td>STON/O2. 3101282</td>\n      <td>7.9250</td>\n      <td>NaN</td>\n      <td>S</td>\n    </tr>\n    <tr>\n      <th>3</th>\n      <td>4</td>\n      <td>1</td>\n      <td>1</td>\n      <td>Futrelle, Mrs. Jacques Heath (Lily May Peel)</td>\n      <td>female</td>\n      <td>35.0</td>\n      <td>1</td>\n      <td>0</td>\n      <td>113803</td>\n      <td>53.1000</td>\n      <td>C123</td>\n      <td>S</td>\n    </tr>\n    <tr>\n      <th>4</th>\n      <td>5</td>\n      <td>0</td>\n      <td>3</td>\n      <td>Allen, Mr. William Henry</td>\n      <td>male</td>\n      <td>35.0</td>\n      <td>0</td>\n      <td>0</td>\n      <td>373450</td>\n      <td>8.0500</td>\n      <td>NaN</td>\n      <td>S</td>\n    </tr>\n  </tbody>\n</table>\n</div>"
     },
     "execution_count": 3,
     "metadata": {},
     "output_type": "execute_result"
    }
   ],
   "source": [
    "import pandas as pd\n",
    "df = pd.read_csv('titanic_train.csv')\n",
    "df.head()"
   ],
   "metadata": {
    "collapsed": false
   }
  },
  {
   "cell_type": "code",
   "execution_count": 13,
   "outputs": [],
   "source": [
    "from pandas_profiling import ProfileReport as pr"
   ],
   "metadata": {
    "collapsed": false
   }
  },
  {
   "cell_type": "code",
   "execution_count": 14,
   "outputs": [
    {
     "data": {
      "text/plain": "Summarize dataset:   0%|          | 0/5 [00:00<?, ?it/s]",
      "application/vnd.jupyter.widget-view+json": {
       "version_major": 2,
       "version_minor": 0,
       "model_id": "e5ab5e736c284b5bbfd86dfc73087651"
      }
     },
     "metadata": {},
     "output_type": "display_data"
    },
    {
     "data": {
      "text/plain": "Generate report structure:   0%|          | 0/1 [00:00<?, ?it/s]",
      "application/vnd.jupyter.widget-view+json": {
       "version_major": 2,
       "version_minor": 0,
       "model_id": "d46518733c04440c8f82a26071f7cc50"
      }
     },
     "metadata": {},
     "output_type": "display_data"
    },
    {
     "data": {
      "text/plain": "Render HTML:   0%|          | 0/1 [00:00<?, ?it/s]",
      "application/vnd.jupyter.widget-view+json": {
       "version_major": 2,
       "version_minor": 0,
       "model_id": "f0df4b38991f401fab6baaf42494bd2d"
      }
     },
     "metadata": {},
     "output_type": "display_data"
    },
    {
     "data": {
      "text/plain": "Export report to file:   0%|          | 0/1 [00:00<?, ?it/s]",
      "application/vnd.jupyter.widget-view+json": {
       "version_major": 2,
       "version_minor": 0,
       "model_id": "7579efefc69243738bef9823caa0ed14"
      }
     },
     "metadata": {},
     "output_type": "display_data"
    }
   ],
   "source": [
    "pro = pr(df)\n",
    "pro.to_file(output_file='output.html')"
   ],
   "metadata": {
    "collapsed": false
   }
  },
  {
   "cell_type": "code",
   "execution_count": null,
   "outputs": [],
   "source": [],
   "metadata": {
    "collapsed": false
   }
  }
 ],
 "metadata": {
  "kernelspec": {
   "display_name": "Python 3",
   "language": "python",
   "name": "python3"
  },
  "language_info": {
   "codemirror_mode": {
    "name": "ipython",
    "version": 2
   },
   "file_extension": ".py",
   "mimetype": "text/x-python",
   "name": "python",
   "nbconvert_exporter": "python",
   "pygments_lexer": "ipython2",
   "version": "2.7.6"
  }
 },
 "nbformat": 4,
 "nbformat_minor": 0
}
