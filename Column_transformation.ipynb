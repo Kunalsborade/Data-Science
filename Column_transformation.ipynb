{
 "cells": [
  {
   "cell_type": "code",
   "execution_count": 46,
   "id": "d8d8a877",
   "metadata": {},
   "outputs": [],
   "source": [
    "import pandas as pd\n",
    "import numpy as np\n",
    "from sklearn.impute import SimpleImputer as si\n",
    "from sklearn.preprocessing import OneHotEncoder as ohe\n",
    "from sklearn.preprocessing import OrdinalEncoder as oe\n",
    "from sklearn.model_selection import train_test_split as tsp"
   ]
  },
  {
   "cell_type": "code",
   "execution_count": 2,
   "id": "b4964a07",
   "metadata": {},
   "outputs": [],
   "source": [
    "df = pd.read_csv('covid_toy.csv')"
   ]
  },
  {
   "cell_type": "code",
   "execution_count": 3,
   "id": "94ad0794",
   "metadata": {},
   "outputs": [
    {
     "data": {
      "text/html": [
       "<div>\n",
       "<style scoped>\n",
       "    .dataframe tbody tr th:only-of-type {\n",
       "        vertical-align: middle;\n",
       "    }\n",
       "\n",
       "    .dataframe tbody tr th {\n",
       "        vertical-align: top;\n",
       "    }\n",
       "\n",
       "    .dataframe thead th {\n",
       "        text-align: right;\n",
       "    }\n",
       "</style>\n",
       "<table border=\"1\" class=\"dataframe\">\n",
       "  <thead>\n",
       "    <tr style=\"text-align: right;\">\n",
       "      <th></th>\n",
       "      <th>age</th>\n",
       "      <th>gender</th>\n",
       "      <th>fever</th>\n",
       "      <th>cough</th>\n",
       "      <th>city</th>\n",
       "      <th>has_covid</th>\n",
       "    </tr>\n",
       "  </thead>\n",
       "  <tbody>\n",
       "    <tr>\n",
       "      <th>0</th>\n",
       "      <td>60</td>\n",
       "      <td>Male</td>\n",
       "      <td>103.0</td>\n",
       "      <td>Mild</td>\n",
       "      <td>Kolkata</td>\n",
       "      <td>No</td>\n",
       "    </tr>\n",
       "    <tr>\n",
       "      <th>97</th>\n",
       "      <td>20</td>\n",
       "      <td>Female</td>\n",
       "      <td>101.0</td>\n",
       "      <td>Mild</td>\n",
       "      <td>Bangalore</td>\n",
       "      <td>No</td>\n",
       "    </tr>\n",
       "    <tr>\n",
       "      <th>88</th>\n",
       "      <td>5</td>\n",
       "      <td>Female</td>\n",
       "      <td>100.0</td>\n",
       "      <td>Mild</td>\n",
       "      <td>Kolkata</td>\n",
       "      <td>No</td>\n",
       "    </tr>\n",
       "    <tr>\n",
       "      <th>25</th>\n",
       "      <td>23</td>\n",
       "      <td>Male</td>\n",
       "      <td>NaN</td>\n",
       "      <td>Mild</td>\n",
       "      <td>Mumbai</td>\n",
       "      <td>No</td>\n",
       "    </tr>\n",
       "    <tr>\n",
       "      <th>50</th>\n",
       "      <td>19</td>\n",
       "      <td>Male</td>\n",
       "      <td>101.0</td>\n",
       "      <td>Mild</td>\n",
       "      <td>Delhi</td>\n",
       "      <td>Yes</td>\n",
       "    </tr>\n",
       "  </tbody>\n",
       "</table>\n",
       "</div>"
      ],
      "text/plain": [
       "    age  gender  fever cough       city has_covid\n",
       "0    60    Male  103.0  Mild    Kolkata        No\n",
       "97   20  Female  101.0  Mild  Bangalore        No\n",
       "88    5  Female  100.0  Mild    Kolkata        No\n",
       "25   23    Male    NaN  Mild     Mumbai        No\n",
       "50   19    Male  101.0  Mild      Delhi       Yes"
      ]
     },
     "execution_count": 3,
     "metadata": {},
     "output_type": "execute_result"
    }
   ],
   "source": [
    "df.sample(5)"
   ]
  },
  {
   "cell_type": "code",
   "execution_count": 4,
   "id": "63ed8a44",
   "metadata": {},
   "outputs": [
    {
     "data": {
      "text/plain": [
       "Kolkata      32\n",
       "Bangalore    30\n",
       "Delhi        22\n",
       "Mumbai       16\n",
       "Name: city, dtype: int64"
      ]
     },
     "execution_count": 4,
     "metadata": {},
     "output_type": "execute_result"
    }
   ],
   "source": [
    "df['city'].value_counts()"
   ]
  },
  {
   "cell_type": "code",
   "execution_count": 5,
   "id": "1dac52f8",
   "metadata": {},
   "outputs": [
    {
     "data": {
      "text/plain": [
       "age           0\n",
       "gender        0\n",
       "fever        10\n",
       "cough         0\n",
       "city          0\n",
       "has_covid     0\n",
       "dtype: int64"
      ]
     },
     "execution_count": 5,
     "metadata": {},
     "output_type": "execute_result"
    }
   ],
   "source": [
    "df.isnull().sum()"
   ]
  },
  {
   "cell_type": "code",
   "execution_count": 6,
   "id": "2b1e4625",
   "metadata": {},
   "outputs": [],
   "source": [
    "x_train, x_test, y_train, y_test = tsp(df.drop(columns=['has_covid']),df['has_covid'],test_size = 0.2)"
   ]
  },
  {
   "cell_type": "code",
   "execution_count": 7,
   "id": "9cdf3c76",
   "metadata": {},
   "outputs": [],
   "source": [
    "si = si()"
   ]
  },
  {
   "cell_type": "code",
   "execution_count": 8,
   "id": "5dc9b5b4",
   "metadata": {},
   "outputs": [
    {
     "data": {
      "text/plain": [
       "(80, 1)"
      ]
     },
     "execution_count": 8,
     "metadata": {},
     "output_type": "execute_result"
    }
   ],
   "source": [
    "x_train_fever = si.fit_transform(x_train[['fever']])\n",
    "x_test_fever = si.fit_transform(x_test[['fever']])\n",
    "x_train_fever.shape"
   ]
  },
  {
   "cell_type": "code",
   "execution_count": 11,
   "id": "bf7fc506",
   "metadata": {},
   "outputs": [
    {
     "data": {
      "text/plain": [
       "(20, 1)"
      ]
     },
     "execution_count": 11,
     "metadata": {},
     "output_type": "execute_result"
    }
   ],
   "source": [
    "x_test_fever.shape"
   ]
  },
  {
   "cell_type": "code",
   "execution_count": 12,
   "id": "f4321ced",
   "metadata": {},
   "outputs": [],
   "source": [
    "oe = oe(categories=[['Mild','Strong']])"
   ]
  },
  {
   "cell_type": "code",
   "execution_count": 13,
   "id": "60d90dde",
   "metadata": {},
   "outputs": [],
   "source": [
    "x_train_cough = oe.fit_transform(x_train[['cough']])\n",
    "x_test_cough = oe.fit_transform(x_test[['cough']])"
   ]
  },
  {
   "cell_type": "code",
   "execution_count": 15,
   "id": "a77795d5",
   "metadata": {},
   "outputs": [
    {
     "data": {
      "text/plain": [
       "(80, 1)"
      ]
     },
     "execution_count": 15,
     "metadata": {},
     "output_type": "execute_result"
    }
   ],
   "source": [
    "x_train_cough.shape"
   ]
  },
  {
   "cell_type": "code",
   "execution_count": 16,
   "id": "a2a4be48",
   "metadata": {},
   "outputs": [
    {
     "data": {
      "text/plain": [
       "(20, 1)"
      ]
     },
     "execution_count": 16,
     "metadata": {},
     "output_type": "execute_result"
    }
   ],
   "source": [
    "x_test_cough.shape"
   ]
  },
  {
   "cell_type": "code",
   "execution_count": 17,
   "id": "b8c62277",
   "metadata": {},
   "outputs": [],
   "source": [
    "ohe=ohe(drop='first',sparse=False)"
   ]
  },
  {
   "cell_type": "code",
   "execution_count": 21,
   "id": "d2852ca0",
   "metadata": {},
   "outputs": [],
   "source": [
    "x_train_gender_city = ohe.fit_transform(x_train[['gender','city']])\n",
    "x_test_gender_city = ohe.fit_transform(x_test[['gender','city']])"
   ]
  },
  {
   "cell_type": "code",
   "execution_count": 25,
   "id": "f75604e0",
   "metadata": {},
   "outputs": [
    {
     "data": {
      "text/plain": [
       "(80, 4)"
      ]
     },
     "execution_count": 25,
     "metadata": {},
     "output_type": "execute_result"
    }
   ],
   "source": [
    "x_train_gender_city.shape"
   ]
  },
  {
   "cell_type": "code",
   "execution_count": 23,
   "id": "d850d446",
   "metadata": {},
   "outputs": [
    {
     "data": {
      "text/plain": [
       "(20, 4)"
      ]
     },
     "execution_count": 23,
     "metadata": {},
     "output_type": "execute_result"
    }
   ],
   "source": [
    "x_test_gender_city.shape"
   ]
  },
  {
   "cell_type": "code",
   "execution_count": 28,
   "id": "b7bead88",
   "metadata": {},
   "outputs": [],
   "source": [
    "x_train_age = x_train.drop(columns = ['gender','fever','cough','city']).values\n",
    "x_test_age = x_test.drop(columns = ['gender','fever','cough','city']).values"
   ]
  },
  {
   "cell_type": "code",
   "execution_count": 29,
   "id": "bc7a183d",
   "metadata": {},
   "outputs": [
    {
     "data": {
      "text/plain": [
       "(80, 1)"
      ]
     },
     "execution_count": 29,
     "metadata": {},
     "output_type": "execute_result"
    }
   ],
   "source": [
    "x_train_age.shape"
   ]
  },
  {
   "cell_type": "code",
   "execution_count": 30,
   "id": "fd57f759",
   "metadata": {},
   "outputs": [
    {
     "data": {
      "text/plain": [
       "(20, 1)"
      ]
     },
     "execution_count": 30,
     "metadata": {},
     "output_type": "execute_result"
    }
   ],
   "source": [
    "x_test_age.shape"
   ]
  },
  {
   "cell_type": "code",
   "execution_count": 34,
   "id": "0202441c",
   "metadata": {},
   "outputs": [],
   "source": [
    "x_train_transform = np.concatenate((x_train_age,x_train_gender_city,x_train_cough,x_train_fever),axis=1)\n",
    "x_test_transform = np.concatenate((x_test_age,x_test_gender_city,x_test_cough,x_test_fever),axis=1)"
   ]
  },
  {
   "cell_type": "code",
   "execution_count": 37,
   "id": "451dfa58",
   "metadata": {},
   "outputs": [
    {
     "data": {
      "text/plain": [
       "(80, 7)"
      ]
     },
     "execution_count": 37,
     "metadata": {},
     "output_type": "execute_result"
    }
   ],
   "source": [
    "x_train_transform.shape"
   ]
  },
  {
   "cell_type": "code",
   "execution_count": 38,
   "id": "0aa3eee4",
   "metadata": {},
   "outputs": [
    {
     "data": {
      "text/plain": [
       "(20, 7)"
      ]
     },
     "execution_count": 38,
     "metadata": {},
     "output_type": "execute_result"
    }
   ],
   "source": [
    "x_test_transform.shape"
   ]
  },
  {
   "cell_type": "code",
   "execution_count": 42,
   "id": "312c67f4",
   "metadata": {},
   "outputs": [],
   "source": [
    "from sklearn.compose import ColumnTransformer as ct"
   ]
  },
  {
   "cell_type": "code",
   "execution_count": 47,
   "id": "528d6233",
   "metadata": {},
   "outputs": [],
   "source": [
    "transformer = ct(transformers=[\n",
    "    \n",
    "    ('tnf1',si(),['fever']),\n",
    "    ('tnf2',oe(categories=[['Mild','Strong']]),['cough']),\n",
    "    ('tnf3',ohe(sparse=False, drop='first'),['gender','city'])\n",
    "    \n",
    "],remainder='passthrough')"
   ]
  },
  {
   "cell_type": "code",
   "execution_count": 49,
   "id": "5e6eaf36",
   "metadata": {},
   "outputs": [
    {
     "data": {
      "text/plain": [
       "(80, 7)"
      ]
     },
     "execution_count": 49,
     "metadata": {},
     "output_type": "execute_result"
    }
   ],
   "source": [
    "transformer.fit_transform(x_train).shape"
   ]
  },
  {
   "cell_type": "code",
   "execution_count": 51,
   "id": "12d08e4a",
   "metadata": {},
   "outputs": [
    {
     "data": {
      "text/plain": [
       "(20, 7)"
      ]
     },
     "execution_count": 51,
     "metadata": {},
     "output_type": "execute_result"
    }
   ],
   "source": [
    "transformer.fit_transform(x_test).shape"
   ]
  },
  {
   "cell_type": "code",
   "execution_count": null,
   "id": "10a4364a",
   "metadata": {},
   "outputs": [],
   "source": []
  }
 ],
 "metadata": {
  "kernelspec": {
   "display_name": "Python 3 (ipykernel)",
   "language": "python",
   "name": "python3"
  },
  "language_info": {
   "codemirror_mode": {
    "name": "ipython",
    "version": 3
   },
   "file_extension": ".py",
   "mimetype": "text/x-python",
   "name": "python",
   "nbconvert_exporter": "python",
   "pygments_lexer": "ipython3",
   "version": "3.9.12"
  }
 },
 "nbformat": 4,
 "nbformat_minor": 5
}
