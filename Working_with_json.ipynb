{
 "cells": [
  {
   "cell_type": "code",
   "execution_count": 1,
   "metadata": {
    "collapsed": true
   },
   "outputs": [],
   "source": [
    "import pandas as pd"
   ]
  },
  {
   "cell_type": "code",
   "execution_count": 4,
   "outputs": [],
   "source": [
    "df = pd.read_json('test.json')"
   ],
   "metadata": {
    "collapsed": false
   }
  },
  {
   "cell_type": "code",
   "execution_count": 5,
   "outputs": [
    {
     "data": {
      "text/plain": "         id                                        ingredients\n0     18009  [baking powder, eggs, all-purpose flour, raisi...\n1     28583  [sugar, egg yolks, corn starch, cream of tarta...\n2     41580  [sausage links, fennel bulb, fronds, olive oil...\n3     29752  [meat cuts, file powder, smoked sausage, okra,...\n4     35687  [ground black pepper, salt, sausage casings, l...\n...     ...                                                ...\n9939  30246  [large egg yolks, fresh lemon juice, sugar, bo...\n9940  36028  [hot sauce, butter, sweet potatoes, adobo sauc...\n9941  22339  [black pepper, salt, parmigiano reggiano chees...\n9942  42525  [cheddar cheese, cayenne, paprika, plum tomato...\n9943   1443  [cold water, olive oil, lime wedges, garlic cl...\n\n[9944 rows x 2 columns]",
      "text/html": "<div>\n<style scoped>\n    .dataframe tbody tr th:only-of-type {\n        vertical-align: middle;\n    }\n\n    .dataframe tbody tr th {\n        vertical-align: top;\n    }\n\n    .dataframe thead th {\n        text-align: right;\n    }\n</style>\n<table border=\"1\" class=\"dataframe\">\n  <thead>\n    <tr style=\"text-align: right;\">\n      <th></th>\n      <th>id</th>\n      <th>ingredients</th>\n    </tr>\n  </thead>\n  <tbody>\n    <tr>\n      <th>0</th>\n      <td>18009</td>\n      <td>[baking powder, eggs, all-purpose flour, raisi...</td>\n    </tr>\n    <tr>\n      <th>1</th>\n      <td>28583</td>\n      <td>[sugar, egg yolks, corn starch, cream of tarta...</td>\n    </tr>\n    <tr>\n      <th>2</th>\n      <td>41580</td>\n      <td>[sausage links, fennel bulb, fronds, olive oil...</td>\n    </tr>\n    <tr>\n      <th>3</th>\n      <td>29752</td>\n      <td>[meat cuts, file powder, smoked sausage, okra,...</td>\n    </tr>\n    <tr>\n      <th>4</th>\n      <td>35687</td>\n      <td>[ground black pepper, salt, sausage casings, l...</td>\n    </tr>\n    <tr>\n      <th>...</th>\n      <td>...</td>\n      <td>...</td>\n    </tr>\n    <tr>\n      <th>9939</th>\n      <td>30246</td>\n      <td>[large egg yolks, fresh lemon juice, sugar, bo...</td>\n    </tr>\n    <tr>\n      <th>9940</th>\n      <td>36028</td>\n      <td>[hot sauce, butter, sweet potatoes, adobo sauc...</td>\n    </tr>\n    <tr>\n      <th>9941</th>\n      <td>22339</td>\n      <td>[black pepper, salt, parmigiano reggiano chees...</td>\n    </tr>\n    <tr>\n      <th>9942</th>\n      <td>42525</td>\n      <td>[cheddar cheese, cayenne, paprika, plum tomato...</td>\n    </tr>\n    <tr>\n      <th>9943</th>\n      <td>1443</td>\n      <td>[cold water, olive oil, lime wedges, garlic cl...</td>\n    </tr>\n  </tbody>\n</table>\n<p>9944 rows × 2 columns</p>\n</div>"
     },
     "execution_count": 5,
     "metadata": {},
     "output_type": "execute_result"
    }
   ],
   "source": [
    "df"
   ],
   "metadata": {
    "collapsed": false
   }
  },
  {
   "cell_type": "code",
   "execution_count": 6,
   "outputs": [
    {
     "data": {
      "text/plain": "      id                                        ingredients\n0  18009  [baking powder, eggs, all-purpose flour, raisi...\n1  28583  [sugar, egg yolks, corn starch, cream of tarta...\n2  41580  [sausage links, fennel bulb, fronds, olive oil...\n3  29752  [meat cuts, file powder, smoked sausage, okra,...\n4  35687  [ground black pepper, salt, sausage casings, l...",
      "text/html": "<div>\n<style scoped>\n    .dataframe tbody tr th:only-of-type {\n        vertical-align: middle;\n    }\n\n    .dataframe tbody tr th {\n        vertical-align: top;\n    }\n\n    .dataframe thead th {\n        text-align: right;\n    }\n</style>\n<table border=\"1\" class=\"dataframe\">\n  <thead>\n    <tr style=\"text-align: right;\">\n      <th></th>\n      <th>id</th>\n      <th>ingredients</th>\n    </tr>\n  </thead>\n  <tbody>\n    <tr>\n      <th>0</th>\n      <td>18009</td>\n      <td>[baking powder, eggs, all-purpose flour, raisi...</td>\n    </tr>\n    <tr>\n      <th>1</th>\n      <td>28583</td>\n      <td>[sugar, egg yolks, corn starch, cream of tarta...</td>\n    </tr>\n    <tr>\n      <th>2</th>\n      <td>41580</td>\n      <td>[sausage links, fennel bulb, fronds, olive oil...</td>\n    </tr>\n    <tr>\n      <th>3</th>\n      <td>29752</td>\n      <td>[meat cuts, file powder, smoked sausage, okra,...</td>\n    </tr>\n    <tr>\n      <th>4</th>\n      <td>35687</td>\n      <td>[ground black pepper, salt, sausage casings, l...</td>\n    </tr>\n  </tbody>\n</table>\n</div>"
     },
     "execution_count": 6,
     "metadata": {},
     "output_type": "execute_result"
    }
   ],
   "source": [
    "df.head()"
   ],
   "metadata": {
    "collapsed": false
   }
  },
  {
   "cell_type": "code",
   "execution_count": 7,
   "outputs": [
    {
     "data": {
      "text/plain": "2"
     },
     "execution_count": 7,
     "metadata": {},
     "output_type": "execute_result"
    }
   ],
   "source": [
    "df.ndim"
   ],
   "metadata": {
    "collapsed": false
   }
  },
  {
   "cell_type": "code",
   "execution_count": 8,
   "outputs": [
    {
     "data": {
      "text/plain": "19888"
     },
     "execution_count": 8,
     "metadata": {},
     "output_type": "execute_result"
    }
   ],
   "source": [
    "df.size"
   ],
   "metadata": {
    "collapsed": false
   }
  },
  {
   "cell_type": "code",
   "execution_count": 11,
   "outputs": [
    {
     "data": {
      "text/plain": "Index(['id', 'ingredients'], dtype='object')"
     },
     "execution_count": 11,
     "metadata": {},
     "output_type": "execute_result"
    }
   ],
   "source": [
    "df.columns"
   ],
   "metadata": {
    "collapsed": false
   }
  },
  {
   "cell_type": "code",
   "execution_count": null,
   "outputs": [],
   "source": [],
   "metadata": {
    "collapsed": false
   }
  }
 ],
 "metadata": {
  "kernelspec": {
   "display_name": "Python 3",
   "language": "python",
   "name": "python3"
  },
  "language_info": {
   "codemirror_mode": {
    "name": "ipython",
    "version": 2
   },
   "file_extension": ".py",
   "mimetype": "text/x-python",
   "name": "python",
   "nbconvert_exporter": "python",
   "pygments_lexer": "ipython2",
   "version": "2.7.6"
  }
 },
 "nbformat": 4,
 "nbformat_minor": 0
}
