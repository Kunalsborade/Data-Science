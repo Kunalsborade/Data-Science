{
 "cells": [
  {
   "cell_type": "code",
   "execution_count": 2,
   "metadata": {
    "collapsed": true
   },
   "outputs": [],
   "source": [
    "import pandas as pd\n",
    "import requests as res"
   ]
  },
  {
   "cell_type": "code",
   "execution_count": 7,
   "metadata": {},
   "outputs": [],
   "source": [
    "\n",
    "url = \"https://hotels4.p.rapidapi.com/v2/get-meta-data\"\n",
    "\n",
    "headers = {\n",
    "    \"X-RapidAPI-Key\": \"65a7859a68msh7e812429c0fa177p11b948jsnadf3579e6509\",\n",
    "    \"X-RapidAPI-Host\": \"hotels4.p.rapidapi.com\"\n",
    "}\n",
    "result = res.get(url, headers)"
   ]
  },
  {
   "cell_type": "code",
   "execution_count": 8,
   "metadata": {},
   "outputs": [
    {
     "data": {
      "text/plain": [
       "<Response [401]>"
      ]
     },
     "execution_count": 8,
     "metadata": {},
     "output_type": "execute_result"
    }
   ],
   "source": [
    "result"
   ]
  },
  {
   "cell_type": "code",
   "execution_count": 10,
   "metadata": {},
   "outputs": [
    {
     "name": "stdout",
     "output_type": "stream",
     "text": [
      "{\"message\":\"You are not subscribed to this API.\"}\n"
     ]
    }
   ],
   "source": [
    "url = \"https://bloomberg-market-and-financial-news.p.rapidapi.com/market/auto-complete\"\n",
    "\n",
    "querystring = {\"query\":\"<REQUIRED>\"}\n",
    "\n",
    "headers = {\n",
    "    \"X-RapidAPI-Key\": \"65a7859a68msh7e812429c0fa177p11b948jsnadf3579e6509\",\n",
    "    \"X-RapidAPI-Host\": \"bloomberg-market-and-financial-news.p.rapidapi.com\"\n",
    "}\n",
    "\n",
    "response = res.request(\"GET\", url, headers=headers, params=querystring)\n",
    "\n",
    "print(response.text)"
   ]
  },
  {
   "cell_type": "code",
   "execution_count": null,
   "metadata": {},
   "outputs": [],
   "source": []
  }
 ],
 "metadata": {
  "kernelspec": {
   "display_name": "Python 3 (ipykernel)",
   "language": "python",
   "name": "python3"
  },
  "language_info": {
   "codemirror_mode": {
    "name": "ipython",
    "version": 3
   },
   "file_extension": ".py",
   "mimetype": "text/x-python",
   "name": "python",
   "nbconvert_exporter": "python",
   "pygments_lexer": "ipython3",
   "version": "3.9.12"
  }
 },
 "nbformat": 4,
 "nbformat_minor": 1
}
